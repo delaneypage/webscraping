{
 "cells": [
  {
   "cell_type": "code",
   "execution_count": 2,
   "metadata": {
    "pycharm": {
     "is_executing": false
    }
   },
   "outputs": [
    {
     "name": "stdout",
     "text": [
      "duplicates removed.\n"
     ],
     "output_type": "stream"
    }
   ],
   "source": [
    "import pandas as pd\n",
    "import json\n",
    "from ast import literal_eval\n",
    "import numpy as np\n",
    "\n",
    "def clean():\n",
    "\n",
    "    with open('felo_data.jsonl') as f:\n",
    "        records = [literal_eval(line) for line in f]\n",
    "\n",
    "    felodf = pd.DataFrame.from_records(records).set_index('id')\n",
    "\n",
    "    cols = [i for i in felodf.columns]\n",
    "    cols = cols[4:] + cols[:3]\n",
    "    num_unique = max([len(felodf[i].unique()) for i in cols])\n",
    "\n",
    "    felodf = felodf.drop_duplicates(['ucn', 'name'])\n",
    "\n",
    "    if num_unique == len(felodf):\n",
    "        print(\"duplicates removed.\")\n",
    "        \n",
    "    return felodf\n",
    "\n",
    "felodf = clean()\n",
    "\n",
    "felodf.to_csv('felo_data_2010_march2011.csv')"
   ]
  },
  {
   "cell_type": "code",
   "execution_count": 10,
   "outputs": [],
   "source": [
    "\n",
    "def make_dates(month, year):\n",
    "    if int(month) == 9:\n",
    "\n",
    "        date1 = '0' + month + '/' + '01' + '/' + year\n",
    "        date2 = '0' + month + '/' + '15' + '/' + year\n",
    "        date3 = '10' + '/' + '01' + '/' + year\n",
    "\n",
    "    elif int(month) > 9:\n",
    "\n",
    "        date1 = month + '/' + '01' + '/' + year\n",
    "        date2 = month + '/' + '15' + '/' + year\n",
    "\n",
    "        if int(month) == 12:\n",
    "\n",
    "            year = str(int(year) + 1)\n",
    "            date3 = '01' + '/' + '01' + '/' + year\n",
    "\n",
    "        else:\n",
    "\n",
    "            month = str(int(month) + 1)\n",
    "            date3 = month + '/' + '01' + '/' + year\n",
    "\n",
    "    else:\n",
    "\n",
    "        date1 = '0' + month + '/' + '01' + '/' + year\n",
    "        date2 = '0' + month + '/' + '15' + '/' + year\n",
    "        month = str(int(month) + 1)\n",
    "        date3 = '0' + month + '/' + '01' + '/' + year\n",
    "\n",
    "    return [date1, date2, date3]\n"
   ],
   "metadata": {
    "collapsed": false,
    "pycharm": {
     "name": "#%%\n",
     "is_executing": false
    }
   }
  },
  {
   "cell_type": "code",
   "execution_count": 11,
   "outputs": [
    {
     "data": {
      "text/plain": "{'2011': [['03/01/2011', '03/15/2011', '04/01/2011'],\n  ['04/01/2011', '04/15/2011', '05/01/2011'],\n  ['05/01/2011', '05/15/2011', '06/01/2011'],\n  ['06/01/2011', '06/15/2011', '07/01/2011'],\n  ['07/01/2011', '07/15/2011', '08/01/2011'],\n  ['08/01/2011', '08/15/2011', '09/01/2011'],\n  ['09/01/2011', '09/15/2011', '10/01/2011'],\n  ['10/01/2011', '10/15/2011', '11/01/2011'],\n  ['11/01/2011', '11/15/2011', '12/01/2011'],\n  ['12/01/2011', '12/15/2011', '01/01/2012']]}"
     },
     "metadata": {},
     "output_type": "execute_result",
     "execution_count": 11
    }
   ],
   "source": [
    "np.arange(3,12)\n",
    "yrs = [11]\n",
    "mos = np.arange(3,13)\n",
    "dates = {}\n",
    "\n",
    "for y in yrs:\n",
    "    dates['20' + str(y)] = []\n",
    "    for m in mos:\n",
    "        dates['20' + str(y)].append(make_dates(str(m), '20' + str(y)))\n",
    "        \n",
    "dates\n",
    "\n"
   ],
   "metadata": {
    "collapsed": false,
    "pycharm": {
     "name": "#%%\n",
     "is_executing": false
    }
   }
  }
 ],
 "metadata": {
  "kernelspec": {
   "name": "pycharm-be4304e4",
   "language": "python",
   "display_name": "PyCharm (felo)"
  },
  "language_info": {
   "codemirror_mode": {
    "name": "ipython",
    "version": 3
   },
   "file_extension": ".py",
   "mimetype": "text/x-python",
   "name": "python",
   "nbconvert_exporter": "python",
   "pygments_lexer": "ipython3",
   "version": "3.7.1"
  },
  "pycharm": {
   "stem_cell": {
    "cell_type": "raw",
    "source": [],
    "metadata": {
     "collapsed": false
    }
   }
  }
 },
 "nbformat": 4,
 "nbformat_minor": 2
}